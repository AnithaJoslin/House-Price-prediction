{
 "cells": [
  {
   "cell_type": "code",
   "execution_count": null,
   "id": "e6abae49",
   "metadata": {},
   "outputs": [],
   "source": [
    "import numpy as np\n",
    "import pandas as pd\n",
    "import tensorflow as tf\n",
    "import matplotlib.pyplot as plt\n",
    "from sklearn.datasets import load_breast_cancer\n",
    "from sklearn.model_selection import train_test_split\n",
    "from sklearn.preprocessing import StandardScaler\n",
    "\n",
    "from sklearn.model_selection import train_test_split\n",
    "from sklearn.preprocessing import StandardScaler\n",
    "\n",
    "pd.set_option('display.max_columns', None)"
   ]
  },
  {
   "cell_type": "code",
   "execution_count": null,
   "id": "517e87eb",
   "metadata": {},
   "outputs": [],
   "source": [
    "data = pd.read_csv('house-prices-advanced-regression-techniques/train.csv', \n",
    "                  index_col=0)\n",
    "data"
   ]
  },
  {
   "cell_type": "code",
   "execution_count": null,
   "id": "53a77cad",
   "metadata": {},
   "outputs": [],
   "source": [
    "data.shape"
   ]
  },
  {
   "cell_type": "code",
   "execution_count": null,
   "id": "8b2a3227",
   "metadata": {},
   "outputs": [],
   "source": [
    "data = data.select_dtypes(exclude='object')"
   ]
  },
  {
   "cell_type": "code",
   "execution_count": null,
   "id": "7701b774",
   "metadata": {},
   "outputs": [],
   "source": [
    "data = data.fillna(0)"
   ]
  },
  {
   "cell_type": "code",
   "execution_count": null,
   "id": "34361676",
   "metadata": {},
   "outputs": [],
   "source": [
    "y = data.pop('SalePrice')\n",
    "X = data"
   ]
  },
  {
   "cell_type": "code",
   "execution_count": null,
   "id": "3519f760",
   "metadata": {},
   "outputs": [],
   "source": [
    "X_train, X_test, y_train, y_test = train_test_split(X, y, test_size=0.33, random_state=42)"
   ]
  },
  {
   "cell_type": "code",
   "execution_count": null,
   "id": "5b4ccd0b",
   "metadata": {},
   "outputs": [],
   "source": [
    "scalar = StandardScaler()\n",
    "X_train = pd.DataFrame(scalar.fit_transform(X_train), \n",
    "                       index=X_train.index, \n",
    "                       columns=X_train.columns)\n",
    "X_test = pd.DataFrame(scalar.transform(X_test), \n",
    "                     index=X_test.index, \n",
    "                     columns=X_test.columns)"
   ]
  },
  {
   "cell_type": "code",
   "execution_count": null,
   "id": "1d917c22",
   "metadata": {},
   "outputs": [],
   "source": [
    "scalar_y = StandardScaler()\n",
    "y_train = pd.DataFrame(scalar_y.fit_transform(y_train.values.reshape(-1,1)), \n",
    "                      index=y_train.index)\n",
    "y_test = pd.DataFrame(scalar_y.transform(y_test.values.reshape(-1,1)), \n",
    "                     index=y_test.index)"
   ]
  },
  {
   "cell_type": "code",
   "execution_count": null,
   "id": "cf148ebe",
   "metadata": {},
   "outputs": [],
   "source": [
    "X_train"
   ]
  },
  {
   "cell_type": "code",
   "execution_count": null,
   "id": "c85d9d88",
   "metadata": {},
   "outputs": [],
   "source": [
    "y_train"
   ]
  },
  {
   "cell_type": "code",
   "execution_count": null,
   "id": "52c93e3e",
   "metadata": {},
   "outputs": [],
   "source": [
    "model = tf.keras.models.Sequential()\n",
    "\n",
    "model.add(tf.keras.layers.Dense(12, activation='relu', input_shape=(X_train.shape[1],)))\n",
    "model.add(tf.keras.layers.Dense(8, activation='relu'))\n",
    "model.add(tf.keras.layers.Dense(1))\n",
    "\n",
    "model.summary()"
   ]
  },
  {
   "cell_type": "code",
   "execution_count": null,
   "id": "fc77c74c",
   "metadata": {},
   "outputs": [],
   "source": [
    "model.compile(optimizer=tf.keras.optimizers.SGD(0.01),\n",
    "              loss='mse')"
   ]
  },
  {
   "cell_type": "code",
   "execution_count": null,
   "id": "366ce526",
   "metadata": {},
   "outputs": [],
   "source": [
    "early_stop = tf.keras.callbacks.EarlyStopping(min_delta=0.001, \n",
    "                                             patience=20)\n",
    "\n",
    "model.fit(X_train, y_train, epochs=100, validation_split=0.2)"
   ]
  },
  {
   "cell_type": "code",
   "execution_count": null,
   "id": "c8b1148b",
   "metadata": {},
   "outputs": [],
   "source": [
    "y_pred = model.predict(X_test)"
   ]
  },
  {
   "cell_type": "code",
   "execution_count": null,
   "id": "7ce189f5",
   "metadata": {},
   "outputs": [],
   "source": [
    "tf.keras.losses.MSE(y_test, y_pred)"
   ]
  },
  {
   "cell_type": "code",
   "execution_count": null,
   "id": "2c44ae91",
   "metadata": {},
   "outputs": [],
   "source": [
    "from sklearn.metrics import mean_squared_error, mean_absolute_percentage_error"
   ]
  },
  {
   "cell_type": "code",
   "execution_count": null,
   "id": "2b2fed6c",
   "metadata": {},
   "outputs": [],
   "source": [
    "mean_squared_error(y_test, y_pred)"
   ]
  },
  {
   "cell_type": "code",
   "execution_count": null,
   "id": "caeace30",
   "metadata": {},
   "outputs": [],
   "source": [
    "mean_absolute_percentage_error(y_test, y_pred)"
   ]
  },
  {
   "cell_type": "code",
   "execution_count": null,
   "id": "0656dc28",
   "metadata": {},
   "outputs": [],
   "source": [
    "X = pd.DataFrame(scalar.fit_transform(X), \n",
    "                index=X.index, \n",
    "                columns=X.columns)\n",
    "\n",
    "y = pd.DataFrame(scalar_y.fit_transform(y.values.reshape(-1, 1)), \n",
    "                index=y.index)"
   ]
  },
  {
   "cell_type": "code",
   "execution_count": null,
   "id": "2e01e6fd",
   "metadata": {},
   "outputs": [],
   "source": [
    "model.compile(optimizer=tf.keras.optimizers.SGD(0.01),\n",
    "              loss='mse')\n",
    "early_stop = tf.keras.callbacks.EarlyStopping(min_delta=0.01, \n",
    "                                             patience=30)\n",
    "model.fit(X, y, epochs=100, validation_split=0.2, callbacks=early_stop)"
   ]
  },
  {
   "cell_type": "code",
   "execution_count": null,
   "id": "0faa719d",
   "metadata": {},
   "outputs": [],
   "source": [
    "test = pd.read_csv('house-prices-advanced-regression-techniques/test.csv', \n",
    "                   index_col=0)\n",
    "test.head(2)"
   ]
  },
  {
   "cell_type": "code",
   "execution_count": null,
   "id": "b34a7bb2",
   "metadata": {},
   "outputs": [],
   "source": [
    "test = test.select_dtypes(exclude='object')\n",
    "test.head(2)"
   ]
  },
  {
   "cell_type": "code",
   "execution_count": null,
   "id": "f93d32f3",
   "metadata": {},
   "outputs": [],
   "source": [
    "test = test.fillna(0)"
   ]
  },
  {
   "cell_type": "code",
   "execution_count": null,
   "id": "7f0729ec",
   "metadata": {},
   "outputs": [],
   "source": [
    "test = pd.DataFrame(scalar.transform(test), \n",
    "            index=test.index, \n",
    "            columns=test.columns)"
   ]
  },
  {
   "cell_type": "code",
   "execution_count": null,
   "id": "4e008745",
   "metadata": {},
   "outputs": [],
   "source": [
    "test"
   ]
  },
  {
   "cell_type": "code",
   "execution_count": null,
   "id": "9384cbac",
   "metadata": {
    "scrolled": true
   },
   "outputs": [],
   "source": [
    "y_pred = model.predict(test)"
   ]
  },
  {
   "cell_type": "code",
   "execution_count": null,
   "id": "464bd9e4",
   "metadata": {},
   "outputs": [],
   "source": [
    "sub = pd.read_csv('house-prices-advanced-regression-techniques/sample_submission.csv')\n",
    "sub"
   ]
  },
  {
   "cell_type": "code",
   "execution_count": null,
   "id": "3cb6c752",
   "metadata": {},
   "outputs": [],
   "source": [
    "test_y = pd.concat([sub['Id'], pd.DataFrame(scalar_y.inverse_transform(y_pred), columns=['SalePrice'])], \n",
    "         axis=1)"
   ]
  },
  {
   "cell_type": "code",
   "execution_count": null,
   "id": "aa8a214c",
   "metadata": {},
   "outputs": [],
   "source": [
    "test_y.to_csv('house-prices-advanced-regression-techniques/submission_1.csv', \n",
    "             index=False)"
   ]
  }
 ],
 "metadata": {
  "kernelspec": {
   "display_name": "Python 3 (ipykernel)",
   "language": "python",
   "name": "python3"
  },
  "language_info": {
   "codemirror_mode": {
    "name": "ipython",
    "version": 3
   },
   "file_extension": ".py",
   "mimetype": "text/x-python",
   "name": "python",
   "nbconvert_exporter": "python",
   "pygments_lexer": "ipython3",
   "version": "3.11.3"
  }
 },
 "nbformat": 4,
 "nbformat_minor": 5
}
